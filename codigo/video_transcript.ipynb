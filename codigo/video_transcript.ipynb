{
  "nbformat": 4,
  "nbformat_minor": 0,
  "metadata": {
    "colab": {
      "provenance": []
    },
    "kernelspec": {
      "name": "python3",
      "display_name": "Python 3"
    },
    "language_info": {
      "name": "python"
    }
  },
  "cells": [
    {
      "cell_type": "code",
      "source": [
        "# Instalaciones necesarias\n",
        "!apt-get update\n",
        "!pip install selenium webdriver-manager flask youtube-transcript-api\n",
        "!pip install langdetect"
      ],
      "metadata": {
        "colab": {
          "base_uri": "https://localhost:8080/"
        },
        "collapsed": true,
        "id": "QO-98ygqI-qv",
        "outputId": "6e705fa0-63e7-4f10-fe6c-554a398f3879"
      },
      "execution_count": 38,
      "outputs": [
        {
          "output_type": "stream",
          "name": "stdout",
          "text": [
            "\r0% [Working]\r            \rHit:1 https://cloud.r-project.org/bin/linux/ubuntu jammy-cran40/ InRelease\n",
            "Hit:2 https://developer.download.nvidia.com/compute/cuda/repos/ubuntu2204/x86_64  InRelease\n",
            "Hit:3 http://archive.ubuntu.com/ubuntu jammy InRelease\n",
            "Get:4 http://archive.ubuntu.com/ubuntu jammy-updates InRelease [128 kB]\n",
            "Get:5 http://security.ubuntu.com/ubuntu jammy-security InRelease [129 kB]\n",
            "Hit:6 https://r2u.stat.illinois.edu/ubuntu jammy InRelease\n",
            "Hit:7 http://archive.ubuntu.com/ubuntu jammy-backports InRelease\n",
            "Hit:8 https://ppa.launchpadcontent.net/deadsnakes/ppa/ubuntu jammy InRelease\n",
            "Hit:9 https://ppa.launchpadcontent.net/graphics-drivers/ppa/ubuntu jammy InRelease\n",
            "Hit:10 https://ppa.launchpadcontent.net/ubuntugis/ppa/ubuntu jammy InRelease\n",
            "Fetched 257 kB in 1s (179 kB/s)\n",
            "Reading package lists... Done\n",
            "W: Skipping acquire of configured file 'main/source/Sources' as repository 'https://r2u.stat.illinois.edu/ubuntu jammy InRelease' does not seem to provide it (sources.list entry misspelt?)\n",
            "Requirement already satisfied: selenium in /usr/local/lib/python3.11/dist-packages (4.32.0)\n",
            "Requirement already satisfied: webdriver-manager in /usr/local/lib/python3.11/dist-packages (4.0.2)\n",
            "Requirement already satisfied: flask in /usr/local/lib/python3.11/dist-packages (3.1.0)\n",
            "Requirement already satisfied: youtube-transcript-api in /usr/local/lib/python3.11/dist-packages (1.0.3)\n",
            "Requirement already satisfied: urllib3<3,>=1.26 in /usr/local/lib/python3.11/dist-packages (from urllib3[socks]<3,>=1.26->selenium) (2.4.0)\n",
            "Requirement already satisfied: trio~=0.17 in /usr/local/lib/python3.11/dist-packages (from selenium) (0.30.0)\n",
            "Requirement already satisfied: trio-websocket~=0.9 in /usr/local/lib/python3.11/dist-packages (from selenium) (0.12.2)\n",
            "Requirement already satisfied: certifi>=2021.10.8 in /usr/local/lib/python3.11/dist-packages (from selenium) (2025.4.26)\n",
            "Requirement already satisfied: typing_extensions~=4.9 in /usr/local/lib/python3.11/dist-packages (from selenium) (4.13.2)\n",
            "Requirement already satisfied: websocket-client~=1.8 in /usr/local/lib/python3.11/dist-packages (from selenium) (1.8.0)\n",
            "Requirement already satisfied: requests in /usr/local/lib/python3.11/dist-packages (from webdriver-manager) (2.32.3)\n",
            "Requirement already satisfied: python-dotenv in /usr/local/lib/python3.11/dist-packages (from webdriver-manager) (1.1.0)\n",
            "Requirement already satisfied: packaging in /usr/local/lib/python3.11/dist-packages (from webdriver-manager) (24.2)\n",
            "Requirement already satisfied: Werkzeug>=3.1 in /usr/local/lib/python3.11/dist-packages (from flask) (3.1.3)\n",
            "Requirement already satisfied: Jinja2>=3.1.2 in /usr/local/lib/python3.11/dist-packages (from flask) (3.1.6)\n",
            "Requirement already satisfied: itsdangerous>=2.2 in /usr/local/lib/python3.11/dist-packages (from flask) (2.2.0)\n",
            "Requirement already satisfied: click>=8.1.3 in /usr/local/lib/python3.11/dist-packages (from flask) (8.1.8)\n",
            "Requirement already satisfied: blinker>=1.9 in /usr/local/lib/python3.11/dist-packages (from flask) (1.9.0)\n",
            "Requirement already satisfied: defusedxml<0.8.0,>=0.7.1 in /usr/local/lib/python3.11/dist-packages (from youtube-transcript-api) (0.7.1)\n",
            "Requirement already satisfied: MarkupSafe>=2.0 in /usr/local/lib/python3.11/dist-packages (from Jinja2>=3.1.2->flask) (3.0.2)\n",
            "Requirement already satisfied: attrs>=23.2.0 in /usr/local/lib/python3.11/dist-packages (from trio~=0.17->selenium) (25.3.0)\n",
            "Requirement already satisfied: sortedcontainers in /usr/local/lib/python3.11/dist-packages (from trio~=0.17->selenium) (2.4.0)\n",
            "Requirement already satisfied: idna in /usr/local/lib/python3.11/dist-packages (from trio~=0.17->selenium) (3.10)\n",
            "Requirement already satisfied: outcome in /usr/local/lib/python3.11/dist-packages (from trio~=0.17->selenium) (1.3.0.post0)\n",
            "Requirement already satisfied: sniffio>=1.3.0 in /usr/local/lib/python3.11/dist-packages (from trio~=0.17->selenium) (1.3.1)\n",
            "Requirement already satisfied: wsproto>=0.14 in /usr/local/lib/python3.11/dist-packages (from trio-websocket~=0.9->selenium) (1.2.0)\n",
            "Requirement already satisfied: pysocks!=1.5.7,<2.0,>=1.5.6 in /usr/local/lib/python3.11/dist-packages (from urllib3[socks]<3,>=1.26->selenium) (1.7.1)\n",
            "Requirement already satisfied: charset-normalizer<4,>=2 in /usr/local/lib/python3.11/dist-packages (from requests->webdriver-manager) (3.4.1)\n",
            "Requirement already satisfied: h11<1,>=0.9.0 in /usr/local/lib/python3.11/dist-packages (from wsproto>=0.14->trio-websocket~=0.9->selenium) (0.16.0)\n",
            "Collecting langdetect\n",
            "  Downloading langdetect-1.0.9.tar.gz (981 kB)\n",
            "\u001b[2K     \u001b[90m━━━━━━━━━━━━━━━━━━━━━━━━━━━━━━━━━━━━━━\u001b[0m \u001b[32m981.5/981.5 kB\u001b[0m \u001b[31m19.3 MB/s\u001b[0m eta \u001b[36m0:00:00\u001b[0m\n",
            "\u001b[?25h  Preparing metadata (setup.py) ... \u001b[?25l\u001b[?25hdone\n",
            "Requirement already satisfied: six in /usr/local/lib/python3.11/dist-packages (from langdetect) (1.17.0)\n",
            "Building wheels for collected packages: langdetect\n",
            "  Building wheel for langdetect (setup.py) ... \u001b[?25l\u001b[?25hdone\n",
            "  Created wheel for langdetect: filename=langdetect-1.0.9-py3-none-any.whl size=993223 sha256=94d009fd0928339d21a043eb5d9a93c3ffaf1d2c12cd00808a1f72aa5cd944de\n",
            "  Stored in directory: /root/.cache/pip/wheels/0a/f2/b2/e5ca405801e05eb7c8ed5b3b4bcf1fcabcd6272c167640072e\n",
            "Successfully built langdetect\n",
            "Installing collected packages: langdetect\n",
            "Successfully installed langdetect-1.0.9\n"
          ]
        }
      ]
    },
    {
      "cell_type": "code",
      "source": [
        "from google.colab import drive\n",
        "drive.mount('/content/drive')"
      ],
      "metadata": {
        "colab": {
          "base_uri": "https://localhost:8080/"
        },
        "id": "ZDs0f9gbIrxM",
        "outputId": "b4cee1a7-eb10-479c-a4da-28d430969d6f"
      },
      "execution_count": 39,
      "outputs": [
        {
          "output_type": "stream",
          "name": "stdout",
          "text": [
            "Drive already mounted at /content/drive; to attempt to forcibly remount, call drive.mount(\"/content/drive\", force_remount=True).\n"
          ]
        }
      ]
    },
    {
      "cell_type": "code",
      "source": [
        "# Rutas\n",
        "archivo_salida_txt = \"/content/drive/My Drive/NLP_Repo_Sagrada/datos/informacion/videos_transcriptos.txt\"\n",
        "url_videos = \"https://boardgamegeek.com/boardgame/199561/sagrada/videos/all?pageid=1&sort=hot\""
      ],
      "metadata": {
        "id": "iUIdBwQOQoRd"
      },
      "execution_count": 40,
      "outputs": []
    },
    {
      "cell_type": "code",
      "source": [
        "from selenium import webdriver\n",
        "from selenium.webdriver.chrome.service import Service\n",
        "from selenium.webdriver.chrome.options import Options\n",
        "from selenium.webdriver.common.by import By\n",
        "import time\n",
        "import csv\n",
        "import os\n",
        "\n",
        "# Iniciar Selenium\n",
        "def start_driver(url, delay=5):\n",
        "    chrome_options = Options()\n",
        "    chrome_options.add_argument('--headless')\n",
        "    chrome_options.add_argument('--no-sandbox')\n",
        "    chrome_options.add_argument('--disable-dev-shm-usage')\n",
        "    service = Service('/usr/bin/chromedriver')\n",
        "    driver = webdriver.Chrome(options=chrome_options)\n",
        "    driver.get(url)\n",
        "    print(f\"Esperando {delay} segundos para que cargue la página...\")\n",
        "    time.sleep(delay)\n",
        "    return driver\n",
        "\n",
        "# Extraer vídeos\n",
        "def get_youtube_video_ids_from_bgg(driver, url_base):\n",
        "    driver.get(url_base)\n",
        "    time.sleep(5)\n",
        "    print(\"Cargando enlaces internos de videos...\")\n",
        "\n",
        "    # Buscar todos los enlaces a páginas de videos\n",
        "    links = driver.find_elements(By.CSS_SELECTOR, 'a[href^=\"/video/\"]')\n",
        "    video_page_urls = list(set([link.get_attribute(\"href\") for link in links]))\n",
        "\n",
        "    print(f\"Se encontraron {len(video_page_urls)} páginas de videos. Extrayendo enlaces de YouTube...\")\n",
        "\n",
        "    youtube_ids = []\n",
        "    for video_url in video_page_urls:\n",
        "        try:\n",
        "            driver.get(video_url)\n",
        "            time.sleep(3)\n",
        "            iframe = driver.find_element(By.CSS_SELECTOR, 'iframe[src*=\"youtube.com/embed\"]')\n",
        "            youtube_src = iframe.get_attribute('src')\n",
        "            video_id = youtube_src.split(\"/embed/\")[-1].split(\"?\")[0]\n",
        "            titulo = driver.title\n",
        "            youtube_ids.append((titulo, video_id, video_url))\n",
        "            print(f\"✔ {titulo} - ID: {video_id}\")\n",
        "        except Exception as e:\n",
        "            print(f\"✘ No se encontró video de YouTube en {video_url}: {e}\")\n",
        "    return youtube_ids\n",
        "\n",
        "\n",
        "from youtube_transcript_api import YouTubeTranscriptApi\n",
        "from youtube_transcript_api._errors import TranscriptsDisabled, NoTranscriptFound\n",
        "from langdetect import detect\n",
        "\n",
        "def get_transcripts(video_list, output_path):\n",
        "    with open(output_path, \"w\", encoding=\"utf-8\") as f:\n",
        "        for titulo, video_id, url in video_list:\n",
        "            try:\n",
        "                transcript = YouTubeTranscriptApi.get_transcript(video_id, languages=['es', 'en'])\n",
        "                text = \"\\n\".join([seg[\"text\"] for seg in transcript])\n",
        "                detected_lang = detect(text)\n",
        "\n",
        "                f.write(\n",
        "                    f\"TÍTULO: {titulo}\\n\"\n",
        "                    f\"ID: {video_id}\\n\"\n",
        "                    f\"URL: {url}\\n\"\n",
        "                    f\"IDIOMA DETECTADO: {detected_lang}\\n\"\n",
        "                    f\"TRANSCRIPCIÓN:\\n{text}\\n\\n\"\n",
        "                    f\"{'-'*60}\\n\\n\"\n",
        "                )\n",
        "\n",
        "                print(f\"✔ Transcripción guardada para video: {titulo} (Idioma: {detected_lang})\")\n",
        "\n",
        "            except (TranscriptsDisabled, NoTranscriptFound):\n",
        "                print(f\"✘ No se pudo obtener transcripción para video: {titulo}\")\n",
        "            except Exception as e:\n",
        "                print(f\"⚠ Error inesperado con el video {titulo}: {str(e)}\")\n",
        "\n"
      ],
      "metadata": {
        "id": "6UKt2uLJQLQx"
      },
      "execution_count": 42,
      "outputs": []
    },
    {
      "cell_type": "code",
      "source": [
        "# Ejecutar todo\n",
        "driver = start_driver(url_videos)\n",
        "# Extraer todos los video_ids desde páginas internas\n",
        "video_info_list = get_youtube_video_ids_from_bgg(driver, url_videos)\n",
        "# Cerrar Selenium\n",
        "driver.quit()\n",
        "# Transcribir vídeos\n",
        "get_transcripts(video_info_list, archivo_salida_txt)"
      ],
      "metadata": {
        "colab": {
          "base_uri": "https://localhost:8080/"
        },
        "id": "ck_6ysMSRXcu",
        "outputId": "5f7ce593-9d47-4dfc-bc8b-5b9578b1a28f"
      },
      "execution_count": 43,
      "outputs": [
        {
          "output_type": "stream",
          "name": "stdout",
          "text": [
            "Esperando 5 segundos para que cargue la página...\n"
          ]
        }
      ]
    }
  ]
}