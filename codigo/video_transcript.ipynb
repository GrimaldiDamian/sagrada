{
  "nbformat": 4,
  "nbformat_minor": 0,
  "metadata": {
    "colab": {
      "provenance": [],
      "include_colab_link": true
    },
    "kernelspec": {
      "name": "python3",
      "display_name": "Python 3"
    },
    "language_info": {
      "name": "python"
    }
  },
  "cells": [
    {
      "cell_type": "markdown",
      "metadata": {
        "id": "view-in-github",
        "colab_type": "text"
      },
      "source": [
        "<a href=\"https://colab.research.google.com/github/itssofiarce/sagrada/blob/main/codigo/video_transcript.ipynb\" target=\"_parent\"><img src=\"https://colab.research.google.com/assets/colab-badge.svg\" alt=\"Open In Colab\"/></a>"
      ]
    },
    {
      "cell_type": "code",
      "source": [
        "# Instalaciones necesarias\n",
        "!apt-get update\n",
        "!pip install selenium webdriver-manager flask youtube-transcript-api\n",
        "!pip install langdetect"
      ],
      "metadata": {
        "collapsed": true,
        "id": "QO-98ygqI-qv"
      },
      "execution_count": null,
      "outputs": []
    },
    {
      "cell_type": "code",
      "source": [
        "from google.colab import drive\n",
        "drive.mount('/content/drive')"
      ],
      "metadata": {
        "colab": {
          "base_uri": "https://localhost:8080/"
        },
        "id": "ZDs0f9gbIrxM",
        "outputId": "89f6067b-26b2-4530-d902-e2d7fd4c6cb5"
      },
      "execution_count": 3,
      "outputs": [
        {
          "output_type": "stream",
          "name": "stdout",
          "text": [
            "Mounted at /content/drive\n"
          ]
        }
      ]
    },
    {
      "cell_type": "code",
      "source": [
        "# Rutas\n",
        "archivo_salida_txt = \"/content/drive/My Drive/NLP_Repo_Sagrada/datos/informacion/videos_transcriptos.txt\"\n",
        "url_videos = \"https://boardgamegeek.com/boardgame/199561/sagrada/videos/all?pageid=1&sort=hot\""
      ],
      "metadata": {
        "id": "iUIdBwQOQoRd"
      },
      "execution_count": 4,
      "outputs": []
    },
    {
      "cell_type": "code",
      "source": [
        "from selenium import webdriver\n",
        "from selenium.webdriver.chrome.service import Service\n",
        "from selenium.webdriver.chrome.options import Options\n",
        "from selenium.webdriver.common.by import By\n",
        "import time\n",
        "import csv\n",
        "import os\n",
        "\n",
        "# Iniciar Selenium\n",
        "def start_driver(url, delay=5):\n",
        "    chrome_options = Options()\n",
        "    chrome_options.add_argument('--headless')\n",
        "    chrome_options.add_argument('--no-sandbox')\n",
        "    chrome_options.add_argument('--disable-dev-shm-usage')\n",
        "    service = Service('/usr/bin/chromedriver')\n",
        "    driver = webdriver.Chrome(options=chrome_options)\n",
        "    driver.get(url)\n",
        "    print(f\"Esperando {delay} segundos para que cargue la página...\")\n",
        "    time.sleep(delay)\n",
        "    return driver\n",
        "\n",
        "# Extraer vídeos\n",
        "def get_youtube_video_ids_from_bgg(driver, url_base):\n",
        "    driver.get(url_base)\n",
        "    time.sleep(5)\n",
        "    print(\"Cargando enlaces internos de videos...\")\n",
        "\n",
        "    # Buscar todos los enlaces a páginas de videos\n",
        "    links = driver.find_elements(By.CSS_SELECTOR, 'a[href^=\"/video/\"]')\n",
        "    video_page_urls = list(set([link.get_attribute(\"href\") for link in links]))\n",
        "\n",
        "    print(f\"Se encontraron {len(video_page_urls)} páginas de videos. Extrayendo enlaces de YouTube...\")\n",
        "\n",
        "    youtube_ids = []\n",
        "    for video_url in video_page_urls:\n",
        "        try:\n",
        "            driver.get(video_url)\n",
        "            time.sleep(3)\n",
        "            iframe = driver.find_element(By.CSS_SELECTOR, 'iframe[src*=\"youtube.com/embed\"]')\n",
        "            youtube_src = iframe.get_attribute('src')\n",
        "            video_id = youtube_src.split(\"/embed/\")[-1].split(\"?\")[0]\n",
        "            titulo = driver.title\n",
        "            youtube_ids.append((titulo, video_id, video_url))\n",
        "            print(f\"✔ {titulo} - ID: {video_id}\")\n",
        "        except Exception as e:\n",
        "            print(f\"✘ No se encontró video de YouTube en {video_url}: {e}\")\n",
        "    return youtube_ids\n",
        "\n",
        "\n",
        "from youtube_transcript_api import YouTubeTranscriptApi\n",
        "from youtube_transcript_api._errors import TranscriptsDisabled, NoTranscriptFound\n",
        "from langdetect import detect\n",
        "\n",
        "def get_transcripts(video_list, output_path):\n",
        "    with open(output_path, \"w\", encoding=\"utf-8\") as f:\n",
        "        for titulo, video_id, url in video_list:\n",
        "            try:\n",
        "                transcript = YouTubeTranscriptApi.get_transcript(video_id, languages=['es', 'en'])\n",
        "                text = \"\\n\".join([seg[\"text\"] for seg in transcript])\n",
        "                detected_lang = detect(text)\n",
        "\n",
        "                f.write(\n",
        "                    f\"TÍTULO: {titulo}\\n\"\n",
        "                    f\"ID: {video_id}\\n\"\n",
        "                    f\"URL: {url}\\n\"\n",
        "                    f\"IDIOMA DETECTADO: {detected_lang}\\n\"\n",
        "                    f\"TRANSCRIPCIÓN:\\n{text}\\n\\n\"\n",
        "                    f\"{'-'*60}\\n\\n\"\n",
        "                )\n",
        "\n",
        "                print(f\"✔ Transcripción guardada para video: {titulo} (Idioma: {detected_lang})\")\n",
        "\n",
        "            except (TranscriptsDisabled, NoTranscriptFound):\n",
        "                print(f\"✘ No se pudo obtener transcripción para video: {titulo}\")\n",
        "            except Exception as e:\n",
        "                print(f\"⚠ Error inesperado con el video {titulo}: {str(e)}\")\n",
        "\n"
      ],
      "metadata": {
        "id": "6UKt2uLJQLQx"
      },
      "execution_count": 5,
      "outputs": []
    },
    {
      "cell_type": "code",
      "source": [
        "# Ejecutar todo\n",
        "driver = start_driver(url_videos)\n",
        "# Extraer todos los video_ids desde páginas internas\n",
        "video_info_list = get_youtube_video_ids_from_bgg(driver, url_videos)\n",
        "# Cerrar Selenium\n",
        "driver.quit()\n",
        "# Transcribir vídeos\n",
        "get_transcripts(video_info_list, archivo_salida_txt)"
      ],
      "metadata": {
        "colab": {
          "base_uri": "https://localhost:8080/"
        },
        "id": "ck_6ysMSRXcu",
        "outputId": "7bc519eb-e423-4b54-ec0d-8a96794cf087"
      },
      "execution_count": 7,
      "outputs": [
        {
          "output_type": "stream",
          "name": "stdout",
          "text": [
            "Esperando 5 segundos para que cargue la página...\n",
            "Cargando enlaces internos de videos...\n",
            "Se encontraron 37 páginas de videos. Extrayendo enlaces de YouTube...\n",
            "✔ Sagrada - Unboxing | Video | BoardGameGeek - ID: eQOGVm1AvK0\n",
            "✔ Gen Con Bonanza 2016: Sagrada Interview | Video | BoardGameGeek - ID: FRQEEpFyRoM\n",
            "✔ [NTFG] Sagrada - Stained Glass | Video | BoardGameGeek - ID: FD_Eo22tplA\n",
            "✔ Sagrada — Gen Con 2016 | Video | BoardGameGeek - ID: GMeu2GbirqI\n",
            "✘ No se encontró video de YouTube en https://boardgamegeek.com/video/new/thing/199561: Message: no such element: Unable to locate element: {\"method\":\"css selector\",\"selector\":\"iframe[src*=\"youtube.com/embed\"]\"}\n",
            "  (Session info: chrome=136.0.7103.49); For documentation on this error, please visit: https://www.selenium.dev/documentation/webdriver/troubleshooting/errors#no-such-element-exception\n",
            "Stacktrace:\n",
            "#0 0x5ba4740077fa <unknown>\n",
            "#1 0x5ba473aabe90 <unknown>\n",
            "#2 0x5ba473afd870 <unknown>\n",
            "#3 0x5ba473afda61 <unknown>\n",
            "#4 0x5ba473b4bcb4 <unknown>\n",
            "#5 0x5ba473b2326d <unknown>\n",
            "#6 0x5ba473b49135 <unknown>\n",
            "#7 0x5ba473b23013 <unknown>\n",
            "#8 0x5ba473aefb3b <unknown>\n",
            "#9 0x5ba473af07a1 <unknown>\n",
            "#10 0x5ba473fccb9b <unknown>\n",
            "#11 0x5ba473fd0a8a <unknown>\n",
            "#12 0x5ba473fb4912 <unknown>\n",
            "#13 0x5ba473fd1604 <unknown>\n",
            "#14 0x5ba473f9974f <unknown>\n",
            "#15 0x5ba473ff5678 <unknown>\n",
            "#16 0x5ba473ff5856 <unknown>\n",
            "#17 0x5ba474006666 <unknown>\n",
            "#18 0x7c62398b1ac3 <unknown>\n",
            "\n",
            "✔ One Stop Solo Playthrough | Video | BoardGameGeek - ID: v5Ldgz7UFoE\n",
            "✔ JonGetsGames - Sagrada Full Playthrough | Video | BoardGameGeek - ID: 3dzhP7Ol_WY\n",
            "✔ Sagrada - GameNight! Se5 Ep14 | Video | BoardGameGeek - ID: EPcQmGsuyzw\n",
            "✔ The Game Boy Geek's Allegro (2-min) Review of Sagrada | Video | BoardGameGeek - ID: iZJyGePr6c8\n",
            "✔ Sagrada - Play Through, by Watch It Played | Video | BoardGameGeek - ID: w6mWCDnfLwc\n",
            "✔ Sagrada - Unboxing, tutorial y opinión - Juegos de mesa 221B | Video | BoardGameGeek - ID: zUx9w2ybPiU\n",
            "✔ The Art, Design, and Player Experience of Sagrada by Floodgate Games | Video | BoardGameGeek - ID: 4UUxnrQ2w14\n",
            "✔ Edo' Sagrada Review | Video | BoardGameGeek - ID: xXZKamFXmNs\n",
            "✔ Video Review | Video | BoardGameGeek - ID: N6Kow5ZAYWY\n",
            "✔ Board to Death Video (6 min.) | Video | BoardGameGeek - ID: PvU9SuWU02I\n",
            "✔ Sagrada Review - with Tom Vasel | Video | BoardGameGeek - ID: kL-seAlTBW8\n",
            "✔ The Score reviews Sagrada! | Video | BoardGameGeek - ID: F2J_i_tk4ro\n",
            "✔ [DriveThruReview] #586: “Die Burgund Von Basílica” | Video | BoardGameGeek - ID: nsJqrQOsFoA\n",
            "✔ Sagrada Review by Man Vs Meeple | Video | BoardGameGeek - ID: olAPPUvVlBE\n",
            "✔ The Game Boy Geek Reviews Sagrada | Video | BoardGameGeek - ID: zdxmGpisRg8\n",
            "✔ The Gateway Guy reviews Sagrada | Video | BoardGameGeek - ID: NbIkubtxYRQ\n",
            "✔ solomode games - Sagrada solo session | Video | BoardGameGeek - ID: 0jW26nL5zFQ\n",
            "✔ Overview from Gen Con 2017 | Video | BoardGameGeek - ID: A90j2ALmIfo\n",
            "✔ Sagrada [Juego de Mesa / Como se Juega / Tutorial] | Video | BoardGameGeek - ID: rAXn5VAHznk\n",
            "✔ Sagrada Review | Video | BoardGameGeek - ID: I8OVtFrGnUg\n",
            "✔ Rahdo Runs Through►►► Sagrada | Video | BoardGameGeek - ID: 3BSonqR6RX0\n",
            "✔ Sagrada - Playthrough | Video | BoardGameGeek - ID: v_3g9vMiq5w\n",
            "✔ Sagrada Overview + Solo Playthrough | Video | BoardGameGeek - ID: 2hJ8y_o9P38\n",
            "✔ Sagrada - unboxing and simplified play | Video | BoardGameGeek - ID: jG-D9P8tKV8\n",
            "✔ Sagrada - How To Play, by Watch It Played | Video | BoardGameGeek - ID: 0JLpaGHL8MQ\n",
            "✔ Sagrada: Unboxing | Video | BoardGameGeek - ID: Gv-IA4IcgsM\n",
            "✔ Bits of Board - Sagrada Review | Video | BoardGameGeek - ID: ib0etodHNS0\n",
            "✔ Never Bored Gaming - Our Thoughts | Video | BoardGameGeek - ID: R8v2yzZNpNc\n",
            "✔ Boardgame Opinions: Sagrada | Video | BoardGameGeek - ID: aoW-Ow3xkZc\n",
            "✔ Bryan Drake @TheLatestRetro reviews Sagrada | Video | BoardGameGeek - ID: M86_eIRB0MI\n",
            "✔ Sagrada in about 3 minutes | Video | BoardGameGeek - ID: 2JchuN96jB4\n",
            "✔ Sagrada - A \"Chit\" Chat Review by Amanda and Amanda | Video | BoardGameGeek - ID: jLCThJFmWo4\n",
            "✔ Transcripción guardada para video: Sagrada - Unboxing | Video | BoardGameGeek (Idioma: en)\n",
            "✔ Transcripción guardada para video: Gen Con Bonanza 2016: Sagrada Interview | Video | BoardGameGeek (Idioma: en)\n",
            "✔ Transcripción guardada para video: [NTFG] Sagrada - Stained Glass | Video | BoardGameGeek (Idioma: en)\n",
            "✔ Transcripción guardada para video: Sagrada — Gen Con 2016 | Video | BoardGameGeek (Idioma: en)\n",
            "✔ Transcripción guardada para video: One Stop Solo Playthrough | Video | BoardGameGeek (Idioma: en)\n",
            "✔ Transcripción guardada para video: JonGetsGames - Sagrada Full Playthrough | Video | BoardGameGeek (Idioma: en)\n",
            "✔ Transcripción guardada para video: Sagrada - GameNight! Se5 Ep14 | Video | BoardGameGeek (Idioma: en)\n",
            "✔ Transcripción guardada para video: The Game Boy Geek's Allegro (2-min) Review of Sagrada | Video | BoardGameGeek (Idioma: en)\n",
            "✔ Transcripción guardada para video: Sagrada - Play Through, by Watch It Played | Video | BoardGameGeek (Idioma: en)\n",
            "✘ No se pudo obtener transcripción para video: Sagrada - Unboxing, tutorial y opinión - Juegos de mesa 221B | Video | BoardGameGeek\n",
            "✔ Transcripción guardada para video: The Art, Design, and Player Experience of Sagrada by Floodgate Games | Video | BoardGameGeek (Idioma: en)\n",
            "✔ Transcripción guardada para video: Edo' Sagrada Review | Video | BoardGameGeek (Idioma: en)\n",
            "✔ Transcripción guardada para video: Video Review | Video | BoardGameGeek (Idioma: en)\n",
            "✔ Transcripción guardada para video: Board to Death Video (6 min.) | Video | BoardGameGeek (Idioma: en)\n",
            "✔ Transcripción guardada para video: Sagrada Review - with Tom Vasel | Video | BoardGameGeek (Idioma: en)\n",
            "⚠ Error inesperado con el video The Score reviews Sagrada! | Video | BoardGameGeek: \n",
            "Could not retrieve a transcript for the video https://www.youtube.com/watch?v=F2J_i_tk4ro! This is most likely caused by:\n",
            "\n",
            "The video is no longer available\n",
            "\n",
            "If you are sure that the described cause is not responsible for this error and that a transcript should be retrievable, please create an issue at https://github.com/jdepoix/youtube-transcript-api/issues. Please add which version of youtube_transcript_api you are using and provide the information needed to replicate the error. Also make sure that there are no open issues which already describe your problem!\n",
            "✔ Transcripción guardada para video: [DriveThruReview] #586: “Die Burgund Von Basílica” | Video | BoardGameGeek (Idioma: en)\n",
            "✔ Transcripción guardada para video: Sagrada Review by Man Vs Meeple | Video | BoardGameGeek (Idioma: en)\n",
            "✔ Transcripción guardada para video: The Game Boy Geek Reviews Sagrada | Video | BoardGameGeek (Idioma: en)\n",
            "✔ Transcripción guardada para video: The Gateway Guy reviews Sagrada | Video | BoardGameGeek (Idioma: en)\n",
            "✔ Transcripción guardada para video: solomode games - Sagrada solo session | Video | BoardGameGeek (Idioma: en)\n",
            "✘ No se pudo obtener transcripción para video: Overview from Gen Con 2017 | Video | BoardGameGeek\n",
            "✔ Transcripción guardada para video: Sagrada [Juego de Mesa / Como se Juega / Tutorial] | Video | BoardGameGeek (Idioma: es)\n",
            "✔ Transcripción guardada para video: Sagrada Review | Video | BoardGameGeek (Idioma: en)\n",
            "✔ Transcripción guardada para video: Rahdo Runs Through►►► Sagrada | Video | BoardGameGeek (Idioma: en)\n",
            "✔ Transcripción guardada para video: Sagrada - Playthrough | Video | BoardGameGeek (Idioma: en)\n",
            "✘ No se pudo obtener transcripción para video: Sagrada Overview + Solo Playthrough | Video | BoardGameGeek\n",
            "✔ Transcripción guardada para video: Sagrada - unboxing and simplified play | Video | BoardGameGeek (Idioma: en)\n",
            "✔ Transcripción guardada para video: Sagrada - How To Play, by Watch It Played | Video | BoardGameGeek (Idioma: en)\n",
            "✔ Transcripción guardada para video: Sagrada: Unboxing | Video | BoardGameGeek (Idioma: en)\n",
            "✔ Transcripción guardada para video: Bits of Board - Sagrada Review | Video | BoardGameGeek (Idioma: en)\n",
            "✔ Transcripción guardada para video: Never Bored Gaming - Our Thoughts | Video | BoardGameGeek (Idioma: en)\n",
            "✔ Transcripción guardada para video: Boardgame Opinions: Sagrada | Video | BoardGameGeek (Idioma: en)\n",
            "✔ Transcripción guardada para video: Bryan Drake @TheLatestRetro reviews Sagrada | Video | BoardGameGeek (Idioma: en)\n",
            "✔ Transcripción guardada para video: Sagrada in about 3 minutes | Video | BoardGameGeek (Idioma: en)\n",
            "✔ Transcripción guardada para video: Sagrada - A \"Chit\" Chat Review by Amanda and Amanda | Video | BoardGameGeek (Idioma: en)\n"
          ]
        }
      ]
    }
  ]
}